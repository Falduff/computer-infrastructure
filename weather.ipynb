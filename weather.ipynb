{
 "cells": [
  {
   "cell_type": "markdown",
   "metadata": {},
   "source": [
    "Task 1:\n",
    "Created a github repository. Then cloned the repository to my local machine.\n",
    "Then created the data directory using mkdir command.\n",
    "Then creaetd the weather and timestamps subdirectories using the same commands."
   ]
  },
  {
   "cell_type": "markdown",
   "metadata": {},
   "source": [
    "mkdir data\n",
    "\n",
    "cd data\n",
    "\n",
    "mkdir weather\n",
    "\n",
    "mkdir timestamps"
   ]
  },
  {
   "cell_type": "markdown",
   "metadata": {},
   "source": [
    "Task 2"
   ]
  },
  {
   "cell_type": "markdown",
   "metadata": {},
   "source": [
    "  Navigated to the timestamps directory, appended the current date and time 10 times to now.txt using the date command, and verified the contents with the more command."
   ]
  },
  {
   "cell_type": "markdown",
   "metadata": {},
   "source": [
    "cd data/timestamps\n",
    "  \n",
    "for i in {1..10}; do date >> now.txt; done\n",
    "  \n",
    "more now.txt"
   ]
  },
  {
   "cell_type": "markdown",
   "metadata": {},
   "source": [
    "Task 3"
   ]
  },
  {
   "cell_type": "markdown",
   "metadata": {},
   "source": [
    "Used the date command with formatting options (`%Y%m%d_%H%M%S`) to output a timestamp in the specified format and appended it to formatted.txt"
   ]
  },
  {
   "cell_type": "markdown",
   "metadata": {},
   "source": [
    "date +\"%Y%m%d_%H%M%S\" >> formatted.txt"
   ]
  },
  {
   "cell_type": "markdown",
   "metadata": {},
   "source": [
    "Task 4"
   ]
  },
  {
   "cell_type": "markdown",
   "metadata": {},
   "source": [
    "Created empty files with names in the `YYYYmmdd_HHMMSS.txt` format by embedding the date command within backticks."
   ]
  },
  {
   "cell_type": "markdown",
   "metadata": {},
   "source": [
    "touch `date +\"%Y%m%d_%H%M%S\"`.txt"
   ]
  },
  {
   "cell_type": "markdown",
   "metadata": {},
   "source": [
    "Task 5"
   ]
  },
  {
   "cell_type": "markdown",
   "metadata": {},
   "source": [
    "Used the wget command with the -O option to download and save weather data as weather.json."
   ]
  },
  {
   "cell_type": "markdown",
   "metadata": {},
   "source": [
    "cd data/weather\n",
    "  \n",
    "wget -O weather.json https://prodapi.metweb.ie/observations/athenry/today"
   ]
  },
  {
   "cell_type": "markdown",
   "metadata": {},
   "source": [
    "Task 6"
   ]
  },
  {
   "cell_type": "markdown",
   "metadata": {},
   "source": [
    "Modified the wget command to include a timestamped filename."
   ]
  },
  {
   "cell_type": "markdown",
   "metadata": {},
   "source": [
    "wget -O `date +\"%Y%m%d_%H%M%S\"`.json https://prodapi.metweb.ie/observations/athenry/today"
   ]
  },
  {
   "cell_type": "markdown",
   "metadata": {},
   "source": [
    "Task 7"
   ]
  },
  {
   "cell_type": "markdown",
   "metadata": {},
   "source": [
    "Automated the weather data download process and saved files with timestamped names in the data/weather directory."
   ]
  },
  {
   "cell_type": "markdown",
   "metadata": {},
   "source": [
    "#!/bin/bash\n",
    "\n",
    "  mkdir -p data/weather\n",
    "  \n",
    "  wget -O data/weather/`date +\"%Y%m%d_%H%M%S\"`.json https://prodapi.metweb.ie/observations/athenry/today"
   ]
  },
  {
   "cell_type": "markdown",
   "metadata": {},
   "source": [
    "Executed the script:\n",
    "bash weather.sh"
   ]
  },
  {
   "cell_type": "markdown",
   "metadata": {},
   "source": []
  },
  {
   "cell_type": "code",
   "execution_count": 1,
   "metadata": {},
   "outputs": [],
   "source": [
    "import os\n",
    "import pandas as pd"
   ]
  },
  {
   "cell_type": "code",
   "execution_count": 3,
   "metadata": {},
   "outputs": [
    {
     "data": {
      "text/html": [
       "<div>\n",
       "<style scoped>\n",
       "    .dataframe tbody tr th:only-of-type {\n",
       "        vertical-align: middle;\n",
       "    }\n",
       "\n",
       "    .dataframe tbody tr th {\n",
       "        vertical-align: top;\n",
       "    }\n",
       "\n",
       "    .dataframe thead th {\n",
       "        text-align: right;\n",
       "    }\n",
       "</style>\n",
       "<table border=\"1\" class=\"dataframe\">\n",
       "  <thead>\n",
       "    <tr style=\"text-align: right;\">\n",
       "      <th></th>\n",
       "      <th>name</th>\n",
       "      <th>temperature</th>\n",
       "      <th>symbol</th>\n",
       "      <th>weatherDescription</th>\n",
       "      <th>text</th>\n",
       "      <th>windSpeed</th>\n",
       "      <th>windGust</th>\n",
       "      <th>cardinalWindDirection</th>\n",
       "      <th>windDirection</th>\n",
       "      <th>humidity</th>\n",
       "      <th>rainfall</th>\n",
       "      <th>pressure</th>\n",
       "      <th>dayName</th>\n",
       "      <th>date</th>\n",
       "      <th>reportTime</th>\n",
       "    </tr>\n",
       "  </thead>\n",
       "  <tbody>\n",
       "    <tr>\n",
       "      <th>0</th>\n",
       "      <td>Athenry</td>\n",
       "      <td>13</td>\n",
       "      <td>04n</td>\n",
       "      <td>Cloudy</td>\n",
       "      <td>\"Cloudy\"</td>\n",
       "      <td>11</td>\n",
       "      <td>-</td>\n",
       "      <td>SE</td>\n",
       "      <td>135</td>\n",
       "      <td>86</td>\n",
       "      <td>0</td>\n",
       "      <td>1022</td>\n",
       "      <td>Friday</td>\n",
       "      <td>2024-08-11</td>\n",
       "      <td>00:00</td>\n",
       "    </tr>\n",
       "    <tr>\n",
       "      <th>1</th>\n",
       "      <td>Athenry</td>\n",
       "      <td>13</td>\n",
       "      <td>04n</td>\n",
       "      <td>Cloudy</td>\n",
       "      <td>\"Cloudy\"</td>\n",
       "      <td>13</td>\n",
       "      <td>-</td>\n",
       "      <td>SE</td>\n",
       "      <td>135</td>\n",
       "      <td>87</td>\n",
       "      <td>0</td>\n",
       "      <td>1021</td>\n",
       "      <td>Friday</td>\n",
       "      <td>2024-08-11</td>\n",
       "      <td>01:00</td>\n",
       "    </tr>\n",
       "    <tr>\n",
       "      <th>2</th>\n",
       "      <td>Athenry</td>\n",
       "      <td>12</td>\n",
       "      <td>04n</td>\n",
       "      <td>Cloudy</td>\n",
       "      <td>\"Cloudy\"</td>\n",
       "      <td>11</td>\n",
       "      <td>-</td>\n",
       "      <td>SE</td>\n",
       "      <td>135</td>\n",
       "      <td>89</td>\n",
       "      <td>0</td>\n",
       "      <td>1021</td>\n",
       "      <td>Friday</td>\n",
       "      <td>2024-08-11</td>\n",
       "      <td>02:00</td>\n",
       "    </tr>\n",
       "    <tr>\n",
       "      <th>3</th>\n",
       "      <td>Athenry</td>\n",
       "      <td>13</td>\n",
       "      <td>04n</td>\n",
       "      <td>Cloudy</td>\n",
       "      <td>\"Cloudy\"</td>\n",
       "      <td>15</td>\n",
       "      <td>-</td>\n",
       "      <td>SE</td>\n",
       "      <td>135</td>\n",
       "      <td>86</td>\n",
       "      <td>0</td>\n",
       "      <td>1021</td>\n",
       "      <td>Friday</td>\n",
       "      <td>2024-08-11</td>\n",
       "      <td>03:00</td>\n",
       "    </tr>\n",
       "    <tr>\n",
       "      <th>4</th>\n",
       "      <td>Athenry</td>\n",
       "      <td>13</td>\n",
       "      <td>04n</td>\n",
       "      <td>Cloudy</td>\n",
       "      <td>\"Cloudy\"</td>\n",
       "      <td>11</td>\n",
       "      <td>-</td>\n",
       "      <td>SE</td>\n",
       "      <td>135</td>\n",
       "      <td>84</td>\n",
       "      <td>0</td>\n",
       "      <td>1021</td>\n",
       "      <td>Friday</td>\n",
       "      <td>2024-08-11</td>\n",
       "      <td>04:00</td>\n",
       "    </tr>\n",
       "  </tbody>\n",
       "</table>\n",
       "</div>"
      ],
      "text/plain": [
       "      name  temperature symbol weatherDescription      text  windSpeed  \\\n",
       "0  Athenry           13    04n             Cloudy  \"Cloudy\"         11   \n",
       "1  Athenry           13    04n             Cloudy  \"Cloudy\"         13   \n",
       "2  Athenry           12    04n             Cloudy  \"Cloudy\"         11   \n",
       "3  Athenry           13    04n             Cloudy  \"Cloudy\"         15   \n",
       "4  Athenry           13    04n             Cloudy  \"Cloudy\"         11   \n",
       "\n",
       "  windGust cardinalWindDirection  windDirection  humidity  rainfall  pressure  \\\n",
       "0        -                    SE            135        86         0      1022   \n",
       "1        -                    SE            135        87         0      1021   \n",
       "2        -                    SE            135        89         0      1021   \n",
       "3        -                    SE            135        86         0      1021   \n",
       "4        -                    SE            135        84         0      1021   \n",
       "\n",
       "  dayName       date reportTime  \n",
       "0  Friday 2024-08-11      00:00  \n",
       "1  Friday 2024-08-11      01:00  \n",
       "2  Friday 2024-08-11      02:00  \n",
       "3  Friday 2024-08-11      03:00  \n",
       "4  Friday 2024-08-11      04:00  "
      ]
     },
     "metadata": {},
     "output_type": "display_data"
    }
   ],
   "source": [
    "file_path = \"data/weather/weather.json\" \n",
    "\n",
    "weather_data = pd.read_json(file_path)\n",
    "display(weather_data.head())\n"
   ]
  },
  {
   "cell_type": "markdown",
   "metadata": {},
   "source": [
    "The data contains weather observations from the Athenry weather station. Columns include metrics such as temperature, humidity, and wind speed."
   ]
  },
  {
   "cell_type": "code",
   "execution_count": 4,
   "metadata": {},
   "outputs": [
    {
     "name": "stdout",
     "output_type": "stream",
     "text": [
      "<class 'pandas.core.frame.DataFrame'>\n",
      "RangeIndex: 23 entries, 0 to 22\n",
      "Data columns (total 15 columns):\n",
      " #   Column                 Non-Null Count  Dtype         \n",
      "---  ------                 --------------  -----         \n",
      " 0   name                   23 non-null     object        \n",
      " 1   temperature            23 non-null     int64         \n",
      " 2   symbol                 23 non-null     object        \n",
      " 3   weatherDescription     23 non-null     object        \n",
      " 4   text                   23 non-null     object        \n",
      " 5   windSpeed              23 non-null     int64         \n",
      " 6   windGust               23 non-null     object        \n",
      " 7   cardinalWindDirection  23 non-null     object        \n",
      " 8   windDirection          23 non-null     int64         \n",
      " 9   humidity               23 non-null     int64         \n",
      " 10  rainfall               23 non-null     int64         \n",
      " 11  pressure               23 non-null     int64         \n",
      " 12  dayName                23 non-null     object        \n",
      " 13  date                   23 non-null     datetime64[ns]\n",
      " 14  reportTime             23 non-null     object        \n",
      "dtypes: datetime64[ns](1), int64(6), object(8)\n",
      "memory usage: 2.8+ KB\n",
      "None\n",
      "       temperature  windSpeed  windDirection   humidity  rainfall  \\\n",
      "count    23.000000  23.000000      23.000000  23.000000      23.0   \n",
      "mean     12.869565  10.782609     131.086957  84.565217       0.0   \n",
      "min      12.000000   6.000000      90.000000  80.000000       0.0   \n",
      "25%      12.500000   9.000000     135.000000  83.000000       0.0   \n",
      "50%      13.000000  11.000000     135.000000  85.000000       0.0   \n",
      "75%      13.000000  13.000000     135.000000  86.000000       0.0   \n",
      "max      14.000000  15.000000     135.000000  89.000000       0.0   \n",
      "std       0.625543   2.334650      12.964683   2.252798       0.0   \n",
      "\n",
      "          pressure                 date  \n",
      "count    23.000000                   23  \n",
      "mean   1020.565217  2024-08-11 00:00:00  \n",
      "min    1020.000000  2024-08-11 00:00:00  \n",
      "25%    1020.000000  2024-08-11 00:00:00  \n",
      "50%    1021.000000  2024-08-11 00:00:00  \n",
      "75%    1021.000000  2024-08-11 00:00:00  \n",
      "max    1022.000000  2024-08-11 00:00:00  \n",
      "std       0.589768                  NaN  \n"
     ]
    }
   ],
   "source": [
    "# Display basic information about the dataset\n",
    "print(weather_data.info())\n",
    "\n",
    "# Summarize numerical columns\n",
    "print(weather_data.describe())\n"
   ]
  },
  {
   "cell_type": "markdown",
   "metadata": {},
   "source": [
    "The dataset from Met Éireann provides hourly weather observations for Athenry, including metrics like temperature, humidity, wind speed, rainfall, and pressure. It spans over 30 years and is updated monthly, offering a rich resource for understanding regional climate patterns. The data supports agricultural meteorology, climate research, and public awareness, allowing analysis of weather trends."
   ]
  },
  {
   "cell_type": "markdown",
   "metadata": {},
   "source": [
    "The dataset contains weather observations, including columns for metrics such as temperature, humidity, wind speed, and atmospheric pressure. Most columns have complete data, indicating minimal missing entries and ensuring the dataset's reliability for analysis.\n",
    "\n",
    "The statistical summaries of numerical columns, such as temperature and wind speed, provide insight into their distributions. The temperature shows a defined range, mean, and standard deviation, reflecting its variability across time. Overall, the dataset is well-structured and ready for further exploration, including trend analysis or visualization."
   ]
  },
  {
   "cell_type": "code",
   "execution_count": null,
   "metadata": {},
   "outputs": [],
   "source": []
  }
 ],
 "metadata": {
  "kernelspec": {
   "display_name": "appliedstats",
   "language": "python",
   "name": "python3"
  },
  "language_info": {
   "codemirror_mode": {
    "name": "ipython",
    "version": 3
   },
   "file_extension": ".py",
   "mimetype": "text/x-python",
   "name": "python",
   "nbconvert_exporter": "python",
   "pygments_lexer": "ipython3",
   "version": "3.10.15"
  }
 },
 "nbformat": 4,
 "nbformat_minor": 2
}
