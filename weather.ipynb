{
 "cells": [
  {
   "cell_type": "markdown",
   "metadata": {},
   "source": [
    "Task 1:\n",
    "Created a github repository. Then cloned the repository to my local machine.\n",
    "Then created the data directory using mkdir command.\n",
    "Then creaetd the weather and timestamps subdirectories using the same commands."
   ]
  },
  {
   "cell_type": "markdown",
   "metadata": {},
   "source": [
    "mkdir data\n",
    "\n",
    "cd data\n",
    "\n",
    "mkdir weather\n",
    "\n",
    "mkdir timestamps"
   ]
  },
  {
   "cell_type": "markdown",
   "metadata": {},
   "source": [
    "Task 2"
   ]
  },
  {
   "cell_type": "markdown",
   "metadata": {},
   "source": [
    "  Navigated to the timestamps directory, appended the current date and time 10 times to now.txt using the date command, and verified the contents with the more command."
   ]
  },
  {
   "cell_type": "markdown",
   "metadata": {},
   "source": [
    "cd data/timestamps\n",
    "  \n",
    "for i in {1..10}; do date >> now.txt; done\n",
    "  \n",
    "more now.txt"
   ]
  },
  {
   "cell_type": "markdown",
   "metadata": {},
   "source": [
    "Task 3"
   ]
  },
  {
   "cell_type": "markdown",
   "metadata": {},
   "source": [
    "Used the date command with formatting options (`%Y%m%d_%H%M%S`) to output a timestamp in the specified format and appended it to formatted.txt"
   ]
  },
  {
   "cell_type": "markdown",
   "metadata": {},
   "source": [
    "date +\"%Y%m%d_%H%M%S\" >> formatted.txt"
   ]
  },
  {
   "cell_type": "markdown",
   "metadata": {},
   "source": [
    "Task 4"
   ]
  },
  {
   "cell_type": "markdown",
   "metadata": {},
   "source": [
    "Created empty files with names in the `YYYYmmdd_HHMMSS.txt` format by embedding the date command within backticks."
   ]
  },
  {
   "cell_type": "markdown",
   "metadata": {},
   "source": [
    "touch `date +\"%Y%m%d_%H%M%S\"`.txt"
   ]
  },
  {
   "cell_type": "markdown",
   "metadata": {},
   "source": [
    "Task 5"
   ]
  },
  {
   "cell_type": "markdown",
   "metadata": {},
   "source": [
    "Used the wget command with the -O option to download and save weather data as weather.json."
   ]
  },
  {
   "cell_type": "markdown",
   "metadata": {},
   "source": []
  }
 ],
 "metadata": {
  "language_info": {
   "name": "python"
  }
 },
 "nbformat": 4,
 "nbformat_minor": 2
}
